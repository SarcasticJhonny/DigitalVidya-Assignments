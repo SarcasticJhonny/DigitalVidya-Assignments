{
 "cells": [
  {
   "cell_type": "markdown",
   "metadata": {},
   "source": [
    "### Data Analytics Assignment 1 - Python Introduction\n",
    "\n",
    "Data cleansing, List, Dictionary, conditionals, loops"
   ]
  },
  {
   "cell_type": "code",
   "execution_count": 1,
   "metadata": {
    "collapsed": true
   },
   "outputs": [],
   "source": [
    "#You are given the batting data of qualifier between MI and KKR in the form of a nested dictionary.\n",
    "\n",
    "qualifier_2 = {'KKR' : {'Chris Lynn': 4, \n",
    "                      'Sunil Narine': 10, \n",
    "                      'Gautam Gambhir (c)': 12, \n",
    "                      'Robin Uthappa (wk)': 1, \n",
    "                      'Ishank Jaggi': 28, \n",
    "                      'Colin Grandhomme': 0,\n",
    "                      'Suryakumar Yadav': 31,\n",
    "                      'Piyush Chawla': 2,\n",
    "                      'Nathan Coulter-Nile': 6,\n",
    "                      'Umesh Yadav': 2,\n",
    "                      'Ankit Rajpoot': 4,\n",
    "                      'Extra runs': 7,\n",
    "                      'Total batted': 10},\n",
    "                'MI': {'Lendl Simmons': 3,\n",
    "                      'Parthiv Patel (wk)': 14,\n",
    "                      'Ambati Rayudu': 6,\n",
    "                      'Rohit Sharma (c)': 26,\n",
    "                      'Krunal Pandya': 45,\n",
    "                      'Kieron Pollard': 9,\n",
    "                      'Extra runs': 8,\n",
    "                      'Total batted': 6}}\n"
   ]
  },
  {
   "cell_type": "markdown",
   "metadata": {},
   "source": [
    "# Question 1:\n",
    "\n",
    "Clean the data and delete any entry from the dictionary that would impact your finding the total score later\n",
    "\n",
    "(hint: do you get total score if you add all the runs?)\n"
   ]
  },
  {
   "cell_type": "code",
   "execution_count": 2,
   "metadata": {},
   "outputs": [],
   "source": [
    "KKR = qualifier_2['KKR']\n",
    "MI  = qualifier_2['MI']"
   ]
  },
  {
   "cell_type": "code",
   "execution_count": 3,
   "metadata": {},
   "outputs": [
    {
     "name": "stdout",
     "output_type": "stream",
     "text": [
      "Total KKR score is: 107\n"
     ]
    }
   ],
   "source": [
    "del KKR['Total batted']\n",
    "kkr_score = sum(KKR.values())\n",
    "print('Total KKR score is:','{}'.format(kkr_score))"
   ]
  },
  {
   "cell_type": "code",
   "execution_count": 4,
   "metadata": {},
   "outputs": [
    {
     "name": "stdout",
     "output_type": "stream",
     "text": [
      "Total MI score is: 111\n"
     ]
    }
   ],
   "source": [
    "del MI['Total batted']\n",
    "mi_score = sum(MI.values())\n",
    "print('Total MI score is:','{}'.format(mi_score))"
   ]
  },
  {
   "cell_type": "markdown",
   "metadata": {
    "collapsed": true
   },
   "source": [
    "# Question 2:\n",
    "\n",
    "Create 4 lists consisting of names and lastnames of players: kkr_name, kkr_lastname, mi_name, mi_last.\n",
    "\n",
    "They should look like: print(kkr_name) ['Chris', 'Sunil', 'Gautam'] etc.\n"
   ]
  },
  {
   "cell_type": "code",
   "execution_count": 5,
   "metadata": {},
   "outputs": [
    {
     "data": {
      "text/plain": [
       "['Chris', 'Lynn']"
      ]
     },
     "execution_count": 5,
     "metadata": {},
     "output_type": "execute_result"
    }
   ],
   "source": [
    "list(KKR.keys())[0].split(' ')"
   ]
  },
  {
   "cell_type": "code",
   "execution_count": 6,
   "metadata": {},
   "outputs": [
    {
     "name": "stdout",
     "output_type": "stream",
     "text": [
      "KKR names: \n",
      " ['Chris', 'Sunil', 'Gautam', 'Robin', 'Ishank', 'Colin', 'Suryakumar', 'Piyush', 'Nathan', 'Umesh', 'Ankit', 'Extra'] \n",
      " KKR_lastname: \n",
      " ['Lynn', 'Narine', 'Gambhir', 'Uthappa', 'Jaggi', 'Grandhomme', 'Yadav', 'Chawla', 'Coulter-Nile', 'Yadav', 'Rajpoot', 'runs']\n"
     ]
    }
   ],
   "source": [
    "kkr_name = []\n",
    "kkr_lastname = []\n",
    "for i in range(len(KKR.keys())):\n",
    "    full_name = list(KKR.keys())[i].split(' ')\n",
    "    kkr_name.append(full_name[0])\n",
    "    kkr_lastname.append(full_name[1])\n",
    "print('KKR names:','\\n','{}'.format(kkr_name),'\\n','KKR_lastname:','\\n','{}'.format(kkr_lastname))"
   ]
  },
  {
   "cell_type": "code",
   "execution_count": 7,
   "metadata": {},
   "outputs": [
    {
     "name": "stdout",
     "output_type": "stream",
     "text": [
      "MI names: \n",
      " ['Lendl', 'Parthiv', 'Ambati', 'Rohit', 'Krunal', 'Kieron', 'Extra'] \n",
      " MI_lastname: \n",
      " ['Simmons', 'Patel', 'Rayudu', 'Sharma', 'Pandya', 'Pollard', 'runs']\n"
     ]
    }
   ],
   "source": [
    "mi_name = []\n",
    "mi_lastname = []\n",
    "for i in range(len(MI.keys())):\n",
    "    full_name = list(MI.keys())[i].split(' ')\n",
    "    mi_name.append(full_name[0])\n",
    "    mi_lastname.append(full_name[1])\n",
    "print('MI names:','\\n','{}'.format(mi_name),'\\n','MI_lastname:','\\n','{}'.format(mi_lastname))"
   ]
  },
  {
   "cell_type": "markdown",
   "metadata": {
    "collapsed": true
   },
   "source": [
    "# Queston 3:\n",
    "\n",
    "Delete any entries in the lists that don't reflect the player names.\n"
   ]
  },
  {
   "cell_type": "code",
   "execution_count": 8,
   "metadata": {},
   "outputs": [
    {
     "data": {
      "text/plain": [
       "{'Ambati Rayudu': 6,\n",
       " 'Kieron Pollard': 9,\n",
       " 'Krunal Pandya': 45,\n",
       " 'Lendl Simmons': 3,\n",
       " 'Parthiv Patel (wk)': 14,\n",
       " 'Rohit Sharma (c)': 26}"
      ]
     },
     "execution_count": 8,
     "metadata": {},
     "output_type": "execute_result"
    }
   ],
   "source": [
    "del MI['Extra runs']\n",
    "MI"
   ]
  },
  {
   "cell_type": "code",
   "execution_count": 9,
   "metadata": {
    "collapsed": true
   },
   "outputs": [],
   "source": [
    "del KKR['Extra runs']"
   ]
  },
  {
   "cell_type": "code",
   "execution_count": 10,
   "metadata": {},
   "outputs": [
    {
     "data": {
      "text/plain": [
       "{'Ankit Rajpoot': 4,\n",
       " 'Chris Lynn': 4,\n",
       " 'Colin Grandhomme': 0,\n",
       " 'Gautam Gambhir (c)': 12,\n",
       " 'Ishank Jaggi': 28,\n",
       " 'Nathan Coulter-Nile': 6,\n",
       " 'Piyush Chawla': 2,\n",
       " 'Robin Uthappa (wk)': 1,\n",
       " 'Sunil Narine': 10,\n",
       " 'Suryakumar Yadav': 31,\n",
       " 'Umesh Yadav': 2}"
      ]
     },
     "execution_count": 10,
     "metadata": {},
     "output_type": "execute_result"
    }
   ],
   "source": [
    "KKR"
   ]
  },
  {
   "cell_type": "markdown",
   "metadata": {
    "collapsed": true
   },
   "source": [
    "# Question 4:\n",
    "\n",
    "Given the list kkr_runs = [4, 10, 12, 1, 28, 0, 31, 2, 6, 2, 4], \n",
    "\n",
    "print \"good job\" if the score is more than 30, \n",
    "\n",
    "\"YOu can do better\" if the score is greater than 20 but less than 30,\n",
    "\n",
    "\"Ok you did something\" if the score is more than 10 and less than or equal to 20,\n",
    "\n",
    "\"Duck\" if its 0,\n",
    "\n",
    " \"Come on!\" if its more than 0 and less than or equal to 10"
   ]
  },
  {
   "cell_type": "code",
   "execution_count": 12,
   "metadata": {},
   "outputs": [
    {
     "name": "stdout",
     "output_type": "stream",
     "text": [
      "Come on!\n",
      "Come on!\n",
      "Ok you did something\n",
      "Come on!\n",
      "You can do better\n",
      "Duck\n",
      "good job\n",
      "Come on!\n",
      "Come on!\n",
      "Come on!\n",
      "Come on!\n"
     ]
    }
   ],
   "source": [
    "kkr_runs = [4, 10, 12, 1, 28, 0, 31, 2, 6, 2, 4]\n",
    "for i in iter(kkr_runs):\n",
    "    if i > 30:\n",
    "        print('good job')\n",
    "    elif (i > 20) & (i < 30):\n",
    "        print('You can do better')\n",
    "    elif (i > 10) & (i <= 20):\n",
    "        print('Ok you did something')\n",
    "    elif i == 0:\n",
    "        print('Duck')\n",
    "    elif (i > 0) & (i <= 10):\n",
    "        print('Come on!')"
   ]
  },
  {
   "cell_type": "markdown",
   "metadata": {
    "collapsed": true
   },
   "source": [
    "# Question 5:\n",
    " \n",
    " Ask the user to enter two numbers. Print all numbers between these two numbers, both numbers included. \n",
    " \n",
    " The numbers could be in any order. Use while loop\n",
    " \n",
    " If both the numbers are same, print \"duh\".\n"
   ]
  },
  {
   "cell_type": "code",
   "execution_count": 13,
   "metadata": {},
   "outputs": [
    {
     "name": "stdout",
     "output_type": "stream",
     "text": [
      "Enter TWO numbers saperated by 'SPACE':1 10\n"
     ]
    }
   ],
   "source": [
    "s1, s2 = input('Enter TWO numbers saperated by \\'SPACE\\':').split(' ')"
   ]
  },
  {
   "cell_type": "code",
   "execution_count": 14,
   "metadata": {},
   "outputs": [
    {
     "name": "stdout",
     "output_type": "stream",
     "text": [
      "1\n",
      "2\n",
      "3\n",
      "4\n",
      "5\n",
      "6\n",
      "7\n",
      "8\n",
      "9\n",
      "10\n"
     ]
    }
   ],
   "source": [
    "s1 = int(s1)\n",
    "s2 = int(s2)\n",
    "if s1 < s2:\n",
    "    print(s1)\n",
    "    while (s1 < s2):\n",
    "        s1 += 1\n",
    "        print(s1)\n",
    "elif s1 > s2:\n",
    "    print(s1)\n",
    "    while(s1 > s2):\n",
    "        s1 -= 1\n",
    "        print (s1)\n",
    "        "
   ]
  },
  {
   "cell_type": "markdown",
   "metadata": {},
   "source": [
    "Extra credits:"
   ]
  },
  {
   "cell_type": "markdown",
   "metadata": {},
   "source": [
    "# Question 6:\n",
    "\n",
    "Generate a random number using following code"
   ]
  },
  {
   "cell_type": "code",
   "execution_count": 15,
   "metadata": {},
   "outputs": [
    {
     "name": "stdout",
     "output_type": "stream",
     "text": [
      "Enter a random number in range 0 to 10:2\n",
      "The random number was 2\n",
      "Enter a random number in range 0 to 10:3\n",
      "Go Low\n",
      "Enter a random number in range 0 to 10:2\n",
      "Congratulations\n",
      "Play again? Y/N:Y\n",
      "Enter a random number in range 0 to 10:10\n",
      "Go Low\n",
      "Enter a random number in range 0 to 10:1\n",
      "Go High\n",
      "Enter a random number in range 0 to 10:4\n",
      "Go Low\n",
      "Enter a random number in range 0 to 10:2\n",
      "Congratulations\n",
      "Play again? Y/N:N\n"
     ]
    }
   ],
   "source": [
    "\n",
    "import random\n",
    "random_number = random.randint( 0, 10)\n",
    "#Now keep asking the user to guess the number. If user's guess is more than the random number, print ('Go low'),\n",
    "#if user's guess is less than the random number, print ('Go high'),\n",
    "#when user makes the right guess, print ('Congratulations') and stop the loop\n",
    "s = input(\"Enter a random number in range 0 to 10:\")\n",
    "print('The random number was','{}'.format(random_number))\n",
    "while(s != random_number):\n",
    "    s = input(\"Enter a random number in range 0 to 10:\")\n",
    "    if int(s) > random_number:\n",
    "        print('Go Low')\n",
    "        pass\n",
    "    elif int(s) < random_number:\n",
    "        print('Go High')\n",
    "        pass\n",
    "    elif int(s) == random_number:\n",
    "        print('Congratulations')\n",
    "        ag = input('Play again? Y/N:')\n",
    "        if ag is 'Y':\n",
    "            pass\n",
    "        if ag is 'N':\n",
    "            break"
   ]
  },
  {
   "cell_type": "markdown",
   "metadata": {},
   "source": [
    "# Question 7:\n",
    "\n",
    "Given the list of kkr score, return another list kkr_unique with only unique runs (The list would have only a single instance of numbers 4 and 2)"
   ]
  },
  {
   "cell_type": "code",
   "execution_count": 16,
   "metadata": {},
   "outputs": [
    {
     "data": {
      "text/plain": [
       "[0, 1, 2, 4, 6, 10, 12, 28, 31]"
      ]
     },
     "execution_count": 16,
     "metadata": {},
     "output_type": "execute_result"
    }
   ],
   "source": [
    "kkr_runs = [4, 10, 12, 1, 28, 0, 31, 2, 6, 2, 4]\n",
    "kkr_unique = list(set(kkr_runs))\n",
    "kkr_unique"
   ]
  },
  {
   "cell_type": "code",
   "execution_count": 17,
   "metadata": {},
   "outputs": [
    {
     "data": {
      "text/plain": [
       "[4, 10, 12, 1, 28, 0, 31, 2, 6]"
      ]
     },
     "execution_count": 17,
     "metadata": {},
     "output_type": "execute_result"
    }
   ],
   "source": [
    "kkr_unique = []\n",
    "for i in kkr_runs:\n",
    "    if i not in kkr_unique:\n",
    "        kkr_unique.append(i)\n",
    "kkr_unique"
   ]
  }
 ],
 "metadata": {
  "kernelspec": {
   "display_name": "Python 3",
   "language": "python",
   "name": "python3"
  },
  "language_info": {
   "codemirror_mode": {
    "name": "ipython",
    "version": 3
   },
   "file_extension": ".py",
   "mimetype": "text/x-python",
   "name": "python",
   "nbconvert_exporter": "python",
   "pygments_lexer": "ipython3",
   "version": "3.6.2"
  }
 },
 "nbformat": 4,
 "nbformat_minor": 2
}

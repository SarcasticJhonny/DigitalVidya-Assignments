{
 "cells": [
  {
   "cell_type": "markdown",
   "metadata": {},
   "source": [
    "### Digital Vidya Assignment Copyright\n",
    "\n",
    "### Data Analytics Assignment 2 - Python\n",
    "\n",
    "List, Dictionary, Functions"
   ]
  },
  {
   "cell_type": "code",
   "execution_count": 1,
   "metadata": {
    "collapsed": true
   },
   "outputs": [],
   "source": [
    "#You are given the batting data of qualifier between MI and KKR in the form of a nested dictionary.\n",
    "\n",
    "qualifier_2 = {'KKR' : {'Chris Lynn': 4, \n",
    "                      'Sunil Narine': 10, \n",
    "                      'Gautam Gambhir (c)': 12, \n",
    "                      'Robin Uthappa (wk)': 1, \n",
    "                      'Ishank Jaggi': 28, \n",
    "                      'Colin Grandhomme': 0,\n",
    "                      'Suryakumar Yadav': 31,\n",
    "                      'Piyush Chawla': 2,\n",
    "                      'Nathan Coulter-Nile': 6,\n",
    "                      'Umesh Yadav': 2,\n",
    "                      'Ankit Rajpoot': 4,\n",
    "                      'Extra runs': 7,\n",
    "                      'Total batted': 10},\n",
    "                'MI': {'Lendl Simmons': 3,\n",
    "                      'Parthiv Patel (wk)': 14,\n",
    "                      'Ambati Rayudu': 6,\n",
    "                      'Rohit Sharma (c)': 26,\n",
    "                      'Krunal Pandya': 45,\n",
    "                      'Kieron Pollard': 9,\n",
    "                      'Extra runs': 8,\n",
    "                      'Total batted': 6}}\n"
   ]
  },
  {
   "cell_type": "markdown",
   "metadata": {
    "collapsed": true
   },
   "source": [
    "# 1. Write a function my_smallest(l) that takes a list as an input and returns the smallest value from that list. \n",
    "\n",
    "Do not use python min()\n",
    "\n",
    "Test case:\n",
    "\n",
    " my_smallest([7,5,19,2,6,3]) should print 2"
   ]
  },
  {
   "cell_type": "code",
   "execution_count": 2,
   "metadata": {},
   "outputs": [
    {
     "data": {
      "text/plain": [
       "-15"
      ]
     },
     "execution_count": 2,
     "metadata": {},
     "output_type": "execute_result"
    }
   ],
   "source": [
    "def my_smallest(l):\n",
    "    min = list(set(l))\n",
    "    return (min[0])\n",
    "    \n",
    "my_smallest([2,15,100,-15])"
   ]
  },
  {
   "cell_type": "markdown",
   "metadata": {
    "collapsed": true
   },
   "source": [
    "# 2. Write a function count_vowels(s) that takes a string as an argument and returns the number of vovels in that string\n",
    "\n",
    "Test case:\n",
    "\n",
    "count_vowels('avadakedavra') should return 6\n",
    "\n",
    "count_vowels('Aeroplane') should return 5"
   ]
  },
  {
   "cell_type": "code",
   "execution_count": 3,
   "metadata": {},
   "outputs": [
    {
     "data": {
      "text/plain": [
       "5"
      ]
     },
     "execution_count": 3,
     "metadata": {},
     "output_type": "execute_result"
    }
   ],
   "source": [
    "def count_vowels(s):\n",
    "    vowels = ['A', 'E', 'I', 'O', 'U', 'a', 'e', 'i', 'o', 'u']\n",
    "    count = 0\n",
    "    for i in iter(s):\n",
    "        if i in vowels:\n",
    "            count +=1\n",
    "    return count\n",
    "count_vowels('Aeroplane')"
   ]
  },
  {
   "cell_type": "markdown",
   "metadata": {
    "collapsed": true
   },
   "source": [
    "# 3. Write a function that takes dictionary and team as an argument and returns the total runs\n",
    "\n",
    "Test case:\n",
    "\n",
    "print(total_runs(qualifier_2, 'KKR')) should print 107"
   ]
  },
  {
   "cell_type": "code",
   "execution_count": 4,
   "metadata": {},
   "outputs": [
    {
     "name": "stdout",
     "output_type": "stream",
     "text": [
      "107\n",
      "111\n"
     ]
    }
   ],
   "source": [
    "def runs(data,team):\n",
    "    del data[team]['Total batted']\n",
    "    a = list(data[team].values())\n",
    "    val = 0\n",
    "    for i in range(len(a)):\n",
    "        val = val + a[i]\n",
    "    return val\n",
    "print(runs(qualifier_2,'KKR'))\n",
    "print(runs(qualifier_2,'MI'))"
   ]
  },
  {
   "cell_type": "markdown",
   "metadata": {
    "collapsed": true
   },
   "source": [
    "# 4. Write a function that takes dictionary and returns the name of the winning team.\n",
    "\n",
    "Test case:\n",
    "\n",
    "winner(qualifier_2) should print 'MI'"
   ]
  },
  {
   "cell_type": "code",
   "execution_count": 5,
   "metadata": {
    "collapsed": true
   },
   "outputs": [],
   "source": [
    "def scores(a,b):\n",
    "    Score = []\n",
    "    val = 0\n",
    "    val1 = 0\n",
    "    for i in range(len(a)):\n",
    "        val = val + a[i]\n",
    "    Score.append(val)\n",
    "    for i in range(len(b)):\n",
    "        val1 = val1 + b[i]\n",
    "    Score.append(val1)\n",
    "    return (Score)"
   ]
  },
  {
   "cell_type": "code",
   "execution_count": 6,
   "metadata": {},
   "outputs": [
    {
     "data": {
      "text/plain": [
       "'MI'"
      ]
     },
     "execution_count": 6,
     "metadata": {},
     "output_type": "execute_result"
    }
   ],
   "source": [
    "def winner(data):\n",
    "    team = list(data.keys())\n",
    "    team = list(qualifier_2.keys())\n",
    "    a = list(qualifier_2[team[0]].values())\n",
    "    b = list(qualifier_2[team[1]].values())\n",
    "    c = scores(a,b)\n",
    "    if c[0] > c[1]:\n",
    "        return ('KKR')\n",
    "    if c[0] < c[1]:\n",
    "        return ('MI')\n",
    "winner(qualifier_2)"
   ]
  },
  {
   "cell_type": "markdown",
   "metadata": {
    "collapsed": true
   },
   "source": [
    "# 5. Write a function that returns the name of the team that gave maximum extra runs. \n",
    "#If the extra runs are same for both the teams, the function should print('Both team bowlers equally sloppy')\n",
    "# Test case:\n",
    "#print(sloppy_bowlers(qualifier_2)) should print 'MI'"
   ]
  },
  {
   "cell_type": "code",
   "execution_count": 7,
   "metadata": {},
   "outputs": [
    {
     "data": {
      "text/plain": [
       "'MI'"
      ]
     },
     "execution_count": 7,
     "metadata": {},
     "output_type": "execute_result"
    }
   ],
   "source": [
    "def sloppy_bowlers(data):\n",
    "    team = list(data.keys())\n",
    "    sloppy1 = data[team[0]]['Extra runs']\n",
    "    sloppy2 = data[team[1]]['Extra runs']\n",
    "    if sloppy1 < sloppy2:\n",
    "        return ('MI')\n",
    "    else:\n",
    "        return ('KKR')\n",
    "      \n",
    "sloppy_bowlers(qualifier_2)"
   ]
  },
  {
   "cell_type": "code",
   "execution_count": 8,
   "metadata": {},
   "outputs": [
    {
     "data": {
      "text/plain": [
       "(7, 8)"
      ]
     },
     "execution_count": 8,
     "metadata": {},
     "output_type": "execute_result"
    }
   ],
   "source": [
    "qualifier_2['KKR']['Extra runs'] , qualifier_2['MI']['Extra runs']"
   ]
  },
  {
   "cell_type": "markdown",
   "metadata": {
    "collapsed": true
   },
   "source": [
    "# Extra credits:\n",
    " Write your own sort functin called my_sort() that takes a list as an argument and returns the sorted list.\n",
    "\n",
    "Test case:\n",
    "\n",
    "my_sort([3, 14, 6, 26, 45, 9, 8]) should return [3, 6, 8, 9, 14, 26, 45]"
   ]
  },
  {
   "cell_type": "code",
   "execution_count": 9,
   "metadata": {},
   "outputs": [
    {
     "data": {
      "text/plain": [
       "[0, 1, 2, 11, 50, -11, 120]"
      ]
     },
     "execution_count": 9,
     "metadata": {},
     "output_type": "execute_result"
    }
   ],
   "source": [
    "def my_sort(s):\n",
    "    s = list(s)\n",
    "    sorted_list = list(set(s))\n",
    "    return sorted_list\n",
    "my_sort([1,2,50,11,120,0,-11])"
   ]
  },
  {
   "cell_type": "markdown",
   "metadata": {},
   "source": [
    " "
   ]
  },
  {
   "cell_type": "markdown",
   "metadata": {
    "collapsed": true
   },
   "source": [
    "# Write a function team_captain() that takes dictionary and team name as arguments and returns the name of the captain.\n",
    "\n",
    "Test it on the dictionary qualifier_2 given above and do note that the names of the captains are followed by (c).\n",
    "\n",
    "Test:\n",
    "\n",
    " team_captain(qualifier_2, 'MI') should return 'Rohit Sharma (c)'"
   ]
  },
  {
   "cell_type": "code",
   "execution_count": 10,
   "metadata": {},
   "outputs": [
    {
     "name": "stdout",
     "output_type": "stream",
     "text": [
      "KKR's team captain is:\t Gautam Gambhir (c)\n",
      "MI's team captain is:\t Rohit Sharma (c)\n"
     ]
    }
   ],
   "source": [
    "def team_captain(data, team_name):\n",
    "    if team_name in data.keys():\n",
    "        for team_guy in data[team_name]:\n",
    "            if '(c)' in team_guy:\n",
    "                return team_guy\n",
    "    \n",
    "KKR_captain = team_captain(qualifier_2,'KKR')\n",
    "MI_captain  = team_captain(qualifier_2, 'MI')\n",
    "print('KKR\\'s team captain is:\\t','{}'.format(KKR_captain))\n",
    "print('MI\\'s team captain is:\\t','{}'.format(MI_captain))"
   ]
  },
  {
   "cell_type": "code",
   "execution_count": 11,
   "metadata": {},
   "outputs": [
    {
     "name": "stdout",
     "output_type": "stream",
     "text": [
      "Gautam Gambhir (c)\n",
      "Rohit Sharma (c)\n"
     ]
    }
   ],
   "source": [
    "for a in qualifier_2.keys():\n",
    "    for v in qualifier_2[a]:\n",
    "        if '(c)' in v:\n",
    "            print(v)"
   ]
  }
 ],
 "metadata": {
  "kernelspec": {
   "display_name": "Python 3",
   "language": "python",
   "name": "python3"
  },
  "language_info": {
   "codemirror_mode": {
    "name": "ipython",
    "version": 3
   },
   "file_extension": ".py",
   "mimetype": "text/x-python",
   "name": "python",
   "nbconvert_exporter": "python",
   "pygments_lexer": "ipython3",
   "version": "3.6.2"
  }
 },
 "nbformat": 4,
 "nbformat_minor": 2
}
